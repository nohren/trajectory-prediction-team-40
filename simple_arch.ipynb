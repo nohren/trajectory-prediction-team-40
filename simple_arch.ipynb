{
 "cells": [
  {
   "cell_type": "code",
   "execution_count": 1,
   "id": "38626dae",
   "metadata": {},
   "outputs": [],
   "source": [
    "import torch\n",
    "import torch.nn as nn\n",
    "import math\n",
    "import numpy as np\n",
    "from torch.utils.data import Dataset, DataLoader"
   ]
  },
  {
   "cell_type": "code",
   "execution_count": 2,
   "id": "bfc8657c",
   "metadata": {},
   "outputs": [],
   "source": [
    "def collate_fn(batch):\n",
    "    if len(batch[0]) == 3:  # Training data with future\n",
    "        pasts, masks, futures = zip(*batch)\n",
    "        past = torch.stack(pasts)\n",
    "        mask = torch.stack(masks)\n",
    "        future = torch.stack(futures)\n",
    "        return past, mask, future\n",
    "    else:  # Test data without future\n",
    "        pasts, masks = zip(*batch)\n",
    "        past = torch.stack(pasts)\n",
    "        mask = torch.stack(masks)\n",
    "        return past, mask\n",
    "    \n",
    "class TrajectoryDataset(Dataset):\n",
    "    def __init__(self, input_path=None, data=None, T_past=50, T_future=60, is_test=False):\n",
    "        if data is not None:\n",
    "            self.data = data\n",
    "        else:\n",
    "            npz = np.load(input_path)\n",
    "            self.data = npz['data']\n",
    "        self.T_past = T_past\n",
    "        self.T_future = T_future\n",
    "        self.is_test = is_test\n",
    "        \n",
    "    def __len__(self):\n",
    "        return len(self.data)\n",
    "\n",
    "    def __getitem__(self, idx):\n",
    "        scene = self.data[idx]  #(num_agents, T, 6)\n",
    "        \n",
    "        # past trajectory of all agents\n",
    "        past = scene[:, :self.T_past, :]\n",
    "        \n",
    "        # create mask for valid agents, essentially checking if the agent has any past trajectory\n",
    "        # no padding in the first two dimensions\n",
    "        mask = np.sum(np.abs(past[..., :2]), axis=(1, 2)) > 0\n",
    "        \n",
    "        # for training data, also extract future trajectory of ego vehicle\n",
    "        if not self.is_test and scene.shape[1] >= self.T_past + self.T_future:\n",
    "            future = scene[0, self.T_past:self.T_past+self.T_future, :2]  # Ego vehicle future (x,y)\n",
    "            return torch.tensor(past, dtype=torch.float32), torch.tensor(mask, dtype=torch.bool), torch.tensor(future, dtype=torch.float32)\n",
    "        \n",
    "        # for test data, only return past\n",
    "        return torch.tensor(past, dtype=torch.float32), torch.tensor(mask, dtype=torch.bool)"
   ]
  },
  {
   "cell_type": "code",
   "execution_count": 3,
   "id": "7dcd7e42",
   "metadata": {},
   "outputs": [],
   "source": [
    "class PositionalEncoding(nn.Module):\n",
    "    def __init__(self, d_model, max_len=5000):\n",
    "        super().__init__()\n",
    "        pos_enc = torch.zeros(max_len, d_model)\n",
    "        position = torch.arange(0, max_len, dtype=torch.float).unsqueeze(1)\n",
    "        div_term = torch.exp(torch.arange(0, d_model, 2).float() *\n",
    "                             (-math.log(10000.0) / d_model))\n",
    "        pos_enc[:, 0::2] = torch.sin(position * div_term)\n",
    "        pos_enc[:, 1::2] = torch.cos(position * div_term)\n",
    "        pos_enc = pos_enc.unsqueeze(1)\n",
    "        self.register_buffer('pos_enc', pos_enc)\n",
    "\n",
    "    def forward(self, x):\n",
    "        seq_len = x.size(0)\n",
    "        return x + self.pos_enc[:seq_len]"
   ]
  },
  {
   "cell_type": "code",
   "execution_count": 4,
   "id": "8c852202",
   "metadata": {},
   "outputs": [],
   "source": [
    "class TrajectoryTransformer(nn.Module):\n",
    "    def __init__(self,\n",
    "                 feature_dim=6,\n",
    "                 d_model=128,\n",
    "                 nhead=8,\n",
    "                 num_layers_temporal=2,\n",
    "                 num_layers_social=2,\n",
    "                 dim_feedforward=256,\n",
    "                 T_past=50,\n",
    "                 T_future=60,\n",
    "                 dropout=0.1):\n",
    "        super().__init__()\n",
    "        self.d_model = d_model\n",
    "        self.T_past = T_past\n",
    "        self.T_future = T_future\n",
    "\n",
    "        self.input_embed = nn.Linear(feature_dim, d_model)\n",
    "        self.time_pos_enc = PositionalEncoding(d_model, max_len=T_past)\n",
    "\n",
    "        encoder_layer = nn.TransformerEncoderLayer(\n",
    "            d_model=d_model, nhead=nhead, dim_feedforward=dim_feedforward, dropout=dropout)\n",
    "        self.temporal_encoder = nn.TransformerEncoder(\n",
    "            encoder_layer, num_layers=num_layers_temporal)\n",
    "\n",
    "        social_layer = nn.TransformerEncoderLayer(\n",
    "            d_model=d_model, nhead=nhead, dim_feedforward=dim_feedforward, dropout=dropout)\n",
    "        self.social_encoder = nn.TransformerEncoder(\n",
    "            social_layer, num_layers=num_layers_social)\n",
    "\n",
    "        self.mlp = nn.Sequential(\n",
    "            nn.Linear(d_model, dim_feedforward),\n",
    "            nn.ReLU(),\n",
    "            nn.Dropout(dropout),\n",
    "            nn.Linear(dim_feedforward, dim_feedforward // 2),\n",
    "            nn.ReLU(),\n",
    "            nn.Dropout(dropout),\n",
    "            nn.Linear(dim_feedforward // 2, 2 * T_future)\n",
    "        )\n",
    "\n",
    "    def forward(self, past, agent_mask):\n",
    "        B, N, T, F = past.shape\n",
    "        # temporal encoding per agent\n",
    "        x = past.view(B * N, T, F).permute(1, 0, 2)\n",
    "        x = self.input_embed(x) * math.sqrt(self.d_model)\n",
    "        x = self.time_pos_enc(x)\n",
    "        x = self.temporal_encoder(x)\n",
    "        agent_feats = x[-1].view(B, N, self.d_model)\n",
    "\n",
    "        # social encoding across agents\n",
    "        scene = agent_feats.permute(1, 0, 2)\n",
    "        scene = self.social_encoder(scene, src_key_padding_mask=~agent_mask)\n",
    "        ego_embed = scene[0]  # (B, d_model)\n",
    "\n",
    "        # Directly regress entire future trajectory\n",
    "        out = self.mlp(ego_embed)  # (B, 2 * T_future)\n",
    "        preds = out.view(B, self.T_future, 2)\n",
    "        return preds\n"
   ]
  },
  {
   "cell_type": "code",
   "execution_count": 5,
   "id": "9a15ca63",
   "metadata": {},
   "outputs": [],
   "source": [
    "def train(model, dataloader, optimizer, device):\n",
    "    model.train()\n",
    "    total_loss = 0.0\n",
    "    criterion = nn.MSELoss()\n",
    "    \n",
    "    for batch in dataloader:\n",
    "        past, mask, future = [x.to(device) for x in batch]\n",
    "        \n",
    "        optimizer.zero_grad()\n",
    "        pred = model(past, mask)\n",
    "        \n",
    "        # Calculate loss against ground truth future\n",
    "        loss = criterion(pred, future)\n",
    "        loss.backward()\n",
    "        optimizer.step()\n",
    "        \n",
    "        total_loss += loss.item() * past.size(0)\n",
    "        \n",
    "    return total_loss / len(dataloader.dataset)\n",
    "\n",
    "\n",
    "def evaluate(model, val_loader, device):\n",
    "    model.eval()\n",
    "    total_loss = 0.0\n",
    "    criterion = nn.MSELoss()\n",
    "    \n",
    "    with torch.no_grad():\n",
    "        for batch in val_loader:\n",
    "            past, mask, future = [x.to(device) for x in batch]\n",
    "            pred = model(past, mask)\n",
    "            loss = criterion(pred, future)\n",
    "            total_loss += loss.item() * past.size(0)\n",
    "            \n",
    "    return total_loss / len(val_loader.dataset)\n",
    "\n",
    "\n",
    "def predict(model, test_loader, device):\n",
    "    model.eval()\n",
    "    all_preds = []\n",
    "    \n",
    "    with torch.no_grad():\n",
    "        for batch in test_loader:\n",
    "            past, mask = [x.to(device) for x in batch]\n",
    "            pred = model(past, mask)\n",
    "            all_preds.append(pred.cpu().numpy())\n",
    "            \n",
    "    return np.concatenate(all_preds, axis=0)"
   ]
  },
  {
   "cell_type": "code",
   "execution_count": 6,
   "id": "a292f00f",
   "metadata": {},
   "outputs": [],
   "source": [
    "train_input = 'data/train.npz'\n",
    "test_input = 'data/test_input.npz'\n",
    "output_csv = 'predictions.csv'\n",
    "\n",
    "batch_size = 32\n",
    "lr = 5e-4\n",
    "epochs = 20\n",
    "device = torch.device('cuda' if torch.cuda.is_available() else 'cpu')"
   ]
  },
  {
   "cell_type": "code",
   "execution_count": 7,
   "id": "b5df0455",
   "metadata": {},
   "outputs": [
    {
     "name": "stderr",
     "output_type": "stream",
     "text": [
      "/Users/jmalegaonkar/Desktop/trajectory-prediction-team-40/.venv/lib/python3.12/site-packages/torch/nn/modules/transformer.py:382: UserWarning: enable_nested_tensor is True, but self.use_nested_tensor is False because encoder_layer.self_attn.batch_first was not True(use batch_first for better inference performance)\n",
      "  warnings.warn(\n"
     ]
    }
   ],
   "source": [
    "full_data = np.load(train_input)['data']\n",
    "\n",
    "# Split into train and eval (7:3)\n",
    "num_samples = len(full_data)\n",
    "num_train = int(0.7 * num_samples)\n",
    "perm = np.random.permutation(num_samples)\n",
    "train_idx = perm[:num_train]\n",
    "eval_idx = perm[num_train:]\n",
    "\n",
    "train_data = full_data[train_idx]\n",
    "eval_data = full_data[eval_idx]\n",
    "\n",
    "train_ds = TrajectoryDataset(data=train_data)\n",
    "eval_ds = TrajectoryDataset(data=eval_data)\n",
    "\n",
    "train_loader = DataLoader(train_ds, batch_size=batch_size, shuffle=True, collate_fn=collate_fn)\n",
    "eval_loader = DataLoader(eval_ds, batch_size=batch_size, shuffle=False, collate_fn=collate_fn)\n",
    "\n",
    "test_ds = TrajectoryDataset(test_input)\n",
    "test_loader = DataLoader(test_ds, batch_size=batch_size, shuffle=False, collate_fn=collate_fn)\n",
    "\n",
    "model = TrajectoryTransformer().to(device)\n",
    "optimizer = torch.optim.AdamW(model.parameters(), lr=lr)"
   ]
  },
  {
   "cell_type": "code",
   "execution_count": null,
   "id": "4115bf8f",
   "metadata": {},
   "outputs": [
    {
     "name": "stdout",
     "output_type": "stream",
     "text": [
      "Epoch 1/20, Train Loss: 2328716.7623, Val Loss: 2238497.0483\n",
      "Saved best model with val loss: 2238497.0483\n",
      "Epoch 2/20, Train Loss: 2345363.2577, Val Loss: 2101580.5507\n",
      "Saved best model with val loss: 2101580.5507\n",
      "Epoch 3/20, Train Loss: 2206805.2857, Val Loss: 1961575.0470\n",
      "Saved best model with val loss: 1961575.0470\n",
      "Epoch 4/20, Train Loss: 2064505.9004, Val Loss: 1872446.0793\n",
      "Saved best model with val loss: 1872446.0793\n",
      "Epoch 5/20, Train Loss: 1989020.7741, Val Loss: 1756541.6830\n",
      "Saved best model with val loss: 1756541.6830\n",
      "Epoch 6/20, Train Loss: 1909893.7887, Val Loss: 1888063.3227\n",
      "Epoch 7/20, Train Loss: 1874431.5377, Val Loss: 1721261.9293\n",
      "Saved best model with val loss: 1721261.9293\n",
      "Epoch 8/20, Train Loss: 1837103.7506, Val Loss: 2124291.5947\n",
      "Epoch 9/20, Train Loss: 1875890.8787, Val Loss: 1753927.4600\n",
      "Epoch 10/20, Train Loss: 1721910.7019, Val Loss: 1721780.0693\n",
      "Epoch 11/20, Train Loss: 1766036.6297, Val Loss: 1504626.9557\n",
      "Saved best model with val loss: 1504626.9557\n",
      "Epoch 12/20, Train Loss: 1684969.3697, Val Loss: 1542311.1660\n",
      "Epoch 13/20, Train Loss: 1664967.4127, Val Loss: 1817061.9323\n"
     ]
    }
   ],
   "source": [
    "best_val_loss = float('inf')\n",
    "for epoch in range(1, epochs+1):\n",
    "    train_loss = train(model, train_loader, optimizer, device)\n",
    "    val_loss = evaluate(model, eval_loader, device)\n",
    "    \n",
    "    print(f\"Epoch {epoch}/{epochs}, Train Loss: {train_loss:.4f}, Val Loss: {val_loss:.4f}\")\n",
    "    \n",
    "    # Save best model\n",
    "    if val_loss < best_val_loss:\n",
    "        best_val_loss = val_loss\n",
    "        torch.save(model.state_dict(), 'best_model.pt')\n",
    "        print(f\"Saved best model with val loss: {best_val_loss:.4f}\")\n",
    "\n",
    "# Load best model for testing\n"
   ]
  },
  {
   "cell_type": "code",
   "execution_count": 14,
   "id": "6b8db4b0",
   "metadata": {},
   "outputs": [
    {
     "data": {
      "text/plain": [
       "<All keys matched successfully>"
      ]
     },
     "execution_count": 14,
     "metadata": {},
     "output_type": "execute_result"
    }
   ],
   "source": [
    "model.load_state_dict(torch.load('best_model.pt'))"
   ]
  },
  {
   "cell_type": "code",
   "execution_count": null,
   "id": "a47f2364",
   "metadata": {},
   "outputs": [
    {
     "name": "stdout",
     "output_type": "stream",
     "text": [
      "Saved predictions to predictions.csv\n"
     ]
    }
   ],
   "source": [
    "# Generate predictions on test set\n",
    "test_preds = predict(model, test_loader, device)\n",
    "B, T, D = test_preds.shape\n",
    "flat_preds = test_preds.reshape(B * T, D)\n",
    "np.savetxt(output_csv, flat_preds, delimiter=',')\n",
    "print(f\"Saved predictions to {output_csv}\")"
   ]
  }
 ],
 "metadata": {
  "kernelspec": {
   "display_name": ".venv",
   "language": "python",
   "name": "python3"
  },
  "language_info": {
   "codemirror_mode": {
    "name": "ipython",
    "version": 3
   },
   "file_extension": ".py",
   "mimetype": "text/x-python",
   "name": "python",
   "nbconvert_exporter": "python",
   "pygments_lexer": "ipython3",
   "version": "3.12.6"
  }
 },
 "nbformat": 4,
 "nbformat_minor": 5
}
