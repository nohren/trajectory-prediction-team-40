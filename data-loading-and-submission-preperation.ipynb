{
 "cells": [
  {
   "cell_type": "markdown",
   "id": "7fedf8a5",
   "metadata": {
    "papermill": {
     "duration": 0.00449,
     "end_time": "2025-04-23T21:44:17.304452",
     "exception": false,
     "start_time": "2025-04-23T21:44:17.299962",
     "status": "completed"
    },
    "tags": []
   },
   "source": [
    "# Use This if you are using Kaggle Notebook"
   ]
  },
  {
   "cell_type": "code",
   "execution_count": 1,
   "id": "d87d7eb9",
   "metadata": {
    "_cell_guid": "b1076dfc-b9ad-4769-8c92-a6c4dae69d19",
    "_uuid": "8f2839f25d086af736a60e9eeb907d3b93b6e0e5",
    "execution": {
     "iopub.execute_input": "2025-04-23T21:44:17.314087Z",
     "iopub.status.busy": "2025-04-23T21:44:17.313617Z",
     "iopub.status.idle": "2025-04-23T21:44:18.195535Z",
     "shell.execute_reply": "2025-04-23T21:44:18.194450Z"
    },
    "papermill": {
     "duration": 0.888493,
     "end_time": "2025-04-23T21:44:18.197126",
     "exception": false,
     "start_time": "2025-04-23T21:44:17.308633",
     "status": "completed"
    },
    "tags": []
   },
   "outputs": [
    {
     "name": "stdout",
     "output_type": "stream",
     "text": [
      "/kaggle/input/agroverse/train.npz\n",
      "/kaggle/input/agroverse/test_input.npz\n"
     ]
    }
   ],
   "source": [
    "# This Python 3 environment comes with many helpful analytics libraries installed\n",
    "# It is defined by the kaggle/python Docker image: https://github.com/kaggle/docker-python\n",
    "# For example, here's several helpful packages to load\n",
    "\n",
    "import numpy as np # linear algebra\n",
    "import pandas as pd # data processing, CSV file I/O (e.g. pd.read_csv)\n",
    "\n",
    "# Input data files are available in the read-only \"../input/\" directory\n",
    "# For example, running this (by clicking run or pressing Shift+Enter) will list all files under the input directory\n",
    "\n",
    "import os\n",
    "for dirname, _, filenames in os.walk('/kaggle/input'):\n",
    "    for filename in filenames:\n",
    "        print(os.path.join(dirname, filename))\n",
    "\n",
    "# You can write up to 20GB to the current directory (/kaggle/working/) that gets preserved as output when you create a version using \"Save & Run All\" \n",
    "# You can also write temporary files to /kaggle/temp/, but they won't be saved outside of the current session"
   ]
  },
  {
   "cell_type": "code",
   "execution_count": 2,
   "id": "cf646759",
   "metadata": {
    "execution": {
     "iopub.execute_input": "2025-04-23T21:44:18.206184Z",
     "iopub.status.busy": "2025-04-23T21:44:18.205742Z",
     "iopub.status.idle": "2025-04-23T21:44:18.317051Z",
     "shell.execute_reply": "2025-04-23T21:44:18.315609Z"
    },
    "papermill": {
     "duration": 0.117445,
     "end_time": "2025-04-23T21:44:18.318715",
     "exception": true,
     "start_time": "2025-04-23T21:44:18.201270",
     "status": "failed"
    },
    "tags": []
   },
   "outputs": [
    {
     "ename": "FileNotFoundError",
     "evalue": "[Errno 2] No such file or directory: '/your_folder/cse-251-b-2025/train.npz'",
     "output_type": "error",
     "traceback": [
      "\u001b[0;31m---------------------------------------------------------------------------\u001b[0m",
      "\u001b[0;31mFileNotFoundError\u001b[0m                         Traceback (most recent call last)",
      "\u001b[0;32m<ipython-input-2-eaedf5f9c592>\u001b[0m in \u001b[0;36m<cell line: 3>\u001b[0;34m()\u001b[0m\n\u001b[1;32m      1\u001b[0m \u001b[0;31m# download the dataset to your folder or use it on kaggle notebook directly\u001b[0m\u001b[0;34m\u001b[0m\u001b[0;34m\u001b[0m\u001b[0m\n\u001b[1;32m      2\u001b[0m \u001b[0;34m\u001b[0m\u001b[0m\n\u001b[0;32m----> 3\u001b[0;31m \u001b[0mtrain_file\u001b[0m \u001b[0;34m=\u001b[0m \u001b[0mnp\u001b[0m\u001b[0;34m.\u001b[0m\u001b[0mload\u001b[0m\u001b[0;34m(\u001b[0m\u001b[0;34m'/your_folder/cse-251-b-2025/train.npz'\u001b[0m\u001b[0;34m)\u001b[0m\u001b[0;34m\u001b[0m\u001b[0;34m\u001b[0m\u001b[0m\n\u001b[0m\u001b[1;32m      4\u001b[0m \u001b[0;31m# train_file = np.load('/kaggle/input/cse-251-b-2025/train.npz')\u001b[0m\u001b[0;34m\u001b[0m\u001b[0;34m\u001b[0m\u001b[0m\n\u001b[1;32m      5\u001b[0m \u001b[0;34m\u001b[0m\u001b[0m\n",
      "\u001b[0;32m/usr/local/lib/python3.10/dist-packages/numpy/lib/npyio.py\u001b[0m in \u001b[0;36mload\u001b[0;34m(file, mmap_mode, allow_pickle, fix_imports, encoding, max_header_size)\u001b[0m\n\u001b[1;32m    425\u001b[0m             \u001b[0mown_fid\u001b[0m \u001b[0;34m=\u001b[0m \u001b[0;32mFalse\u001b[0m\u001b[0;34m\u001b[0m\u001b[0;34m\u001b[0m\u001b[0m\n\u001b[1;32m    426\u001b[0m         \u001b[0;32melse\u001b[0m\u001b[0;34m:\u001b[0m\u001b[0;34m\u001b[0m\u001b[0;34m\u001b[0m\u001b[0m\n\u001b[0;32m--> 427\u001b[0;31m             \u001b[0mfid\u001b[0m \u001b[0;34m=\u001b[0m \u001b[0mstack\u001b[0m\u001b[0;34m.\u001b[0m\u001b[0menter_context\u001b[0m\u001b[0;34m(\u001b[0m\u001b[0mopen\u001b[0m\u001b[0;34m(\u001b[0m\u001b[0mos_fspath\u001b[0m\u001b[0;34m(\u001b[0m\u001b[0mfile\u001b[0m\u001b[0;34m)\u001b[0m\u001b[0;34m,\u001b[0m \u001b[0;34m\"rb\"\u001b[0m\u001b[0;34m)\u001b[0m\u001b[0;34m)\u001b[0m\u001b[0;34m\u001b[0m\u001b[0;34m\u001b[0m\u001b[0m\n\u001b[0m\u001b[1;32m    428\u001b[0m             \u001b[0mown_fid\u001b[0m \u001b[0;34m=\u001b[0m \u001b[0;32mTrue\u001b[0m\u001b[0;34m\u001b[0m\u001b[0;34m\u001b[0m\u001b[0m\n\u001b[1;32m    429\u001b[0m \u001b[0;34m\u001b[0m\u001b[0m\n",
      "\u001b[0;31mFileNotFoundError\u001b[0m: [Errno 2] No such file or directory: '/your_folder/cse-251-b-2025/train.npz'"
     ]
    }
   ],
   "source": [
    "# download the dataset to your folder or use it on kaggle notebook directly\n",
    "\n",
    "train_file = np.load('/your_folder/cse-251-b-2025/train.npz')\n",
    "# train_file = np.load('/kaggle/input/cse-251-b-2025/train.npz')\n",
    "\n",
    "train_data = train_file['data']\n",
    "print(\"train_data's shape\", train_data.shape)\n",
    "test_file = np.load('/your_folder/test_input.npz')\n",
    "# test_file = np.load('/kaggle/input/cse-251-b-2025/test_input.npz')\n",
    "\n",
    "test_data = test_file['data']\n",
    "print(\"test_data's shape\", test_data.shape)\n"
   ]
  },
  {
   "cell_type": "code",
   "execution_count": null,
   "id": "796986a3",
   "metadata": {
    "execution": {
     "iopub.execute_input": "2025-04-01T17:39:40.97884Z",
     "iopub.status.busy": "2025-04-01T17:39:40.978362Z",
     "iopub.status.idle": "2025-04-01T17:39:41.323077Z",
     "shell.execute_reply": "2025-04-01T17:39:41.321787Z"
    },
    "papermill": {
     "duration": null,
     "end_time": null,
     "exception": null,
     "start_time": null,
     "status": "pending"
    },
    "tags": []
   },
   "outputs": [],
   "source": [
    "# plot one\n",
    "import matplotlib.pyplot as plt\n",
    "\n",
    "data_matrix = train_data[0]\n",
    "\n",
    "for i in range(data_matrix.shape[0]):\n",
    "    xs = data_matrix[i, :, 0]\n",
    "    ys = data_matrix[i, :, 1]\n",
    "    # trim all zeros\n",
    "    xs = xs[xs != 0]\n",
    "    ys = ys[ys != 0]\n",
    "    # plot each line going from transparent to full\n",
    "    plt.plot(xs, ys)\n",
    "\n",
    "plt.show()"
   ]
  },
  {
   "cell_type": "code",
   "execution_count": null,
   "id": "2e983daf",
   "metadata": {
    "execution": {
     "iopub.execute_input": "2025-04-01T17:39:41.339052Z",
     "iopub.status.busy": "2025-04-01T17:39:41.338689Z",
     "iopub.status.idle": "2025-04-01T17:39:41.348089Z",
     "shell.execute_reply": "2025-04-01T17:39:41.346792Z"
    },
    "papermill": {
     "duration": null,
     "end_time": null,
     "exception": null,
     "start_time": null,
     "status": "pending"
    },
    "tags": []
   },
   "outputs": [],
   "source": [
    " # say you have a model trained. we write a dummy model just to show useage\n",
    "\n",
    "def dummy_model(input_data):\n",
    "    return np.ones((2100, 1, 60, 2))\n",
    "\n",
    "\n",
    "output = dummy_model(test_data)\n",
    "output.shape"
   ]
  },
  {
   "cell_type": "code",
   "execution_count": null,
   "id": "c7b27aee",
   "metadata": {
    "execution": {
     "iopub.execute_input": "2025-04-01T17:39:41.358147Z",
     "iopub.status.busy": "2025-04-01T17:39:41.357784Z",
     "iopub.status.idle": "2025-04-01T17:39:41.587769Z",
     "shell.execute_reply": "2025-04-01T17:39:41.586758Z"
    },
    "papermill": {
     "duration": null,
     "end_time": null,
     "exception": null,
     "start_time": null,
     "status": "pending"
    },
    "tags": []
   },
   "outputs": [],
   "source": [
    "# reshape to fit desired format: (2100, 1, 60, 2) -> (12600, 2)\n",
    "dummy_output = output.reshape(-1, 2)\n",
    "output_df = pd.DataFrame(dummy_output, columns=['x', 'y'])\n",
    "\n",
    "# adding a necessary step to match index of your prediction to that of the solution key\n",
    "\n",
    "output_df.index.name = 'index'\n",
    "\n",
    "output_df.to_csv('dummy_submission.csv')"
   ]
  },
  {
   "cell_type": "code",
   "execution_count": null,
   "id": "f22597ea",
   "metadata": {
    "papermill": {
     "duration": null,
     "end_time": null,
     "exception": null,
     "start_time": null,
     "status": "pending"
    },
    "tags": []
   },
   "outputs": [],
   "source": [
    "# Split x and y for train data.\n",
    "\n",
    "train_x, train_y = train_data[..., :50, :], train_data[:, 0, 50:, :2]\n",
    "\n",
    "# get the average velocity of the prediction agent\n",
    "velocity_diff = train_x[...,1:, :2] - train_x[...,:-1, :2]\n",
    "print(velocity_diff.shape)\n",
    "\n",
    "constant_vel = np.mean(velocity_diff[:,0, :, :], axis=-2)\n",
    "print(constant_vel.shape) "
   ]
  },
  {
   "cell_type": "code",
   "execution_count": null,
   "id": "f4b33f5d",
   "metadata": {
    "papermill": {
     "duration": null,
     "end_time": null,
     "exception": null,
     "start_time": null,
     "status": "pending"
    },
    "tags": []
   },
   "outputs": [],
   "source": [
    "# create pred_y\n",
    "\n",
    "pred_y = np.zeros((10000, 60, 2))\n",
    "starting_point = train_x[:, 0, -1, :2] # shape (10000, 2)\n",
    "\n",
    "for t in range(60):\n",
    "    pred_y[:,t,:] = starting_point + (t+1) * constant_vel"
   ]
  },
  {
   "cell_type": "code",
   "execution_count": null,
   "id": "a58e8711",
   "metadata": {
    "papermill": {
     "duration": null,
     "end_time": null,
     "exception": null,
     "start_time": null,
     "status": "pending"
    },
    "tags": []
   },
   "outputs": [],
   "source": [
    "# calculate train loss\n",
    "\n",
    "mse = ((train_y - pred_y)**2).mean()\n",
    "print(mse)"
   ]
  },
  {
   "cell_type": "code",
   "execution_count": null,
   "id": "89b81dc7",
   "metadata": {
    "papermill": {
     "duration": null,
     "end_time": null,
     "exception": null,
     "start_time": null,
     "status": "pending"
    },
    "tags": []
   },
   "outputs": [],
   "source": [
    "# prepare submission\n",
    "\n",
    "\n",
    "# get the average velocity of the prediction agent\n",
    "velocity_diff = test_data[...,1:, :2] - test_data[...,:-1, :2]\n",
    "print(velocity_diff.shape)\n",
    "\n",
    "constant_vel = np.mean(velocity_diff[:,0, :, :], axis=-2)\n",
    "print(constant_vel.shape) "
   ]
  },
  {
   "cell_type": "code",
   "execution_count": null,
   "id": "977684bb",
   "metadata": {
    "papermill": {
     "duration": null,
     "end_time": null,
     "exception": null,
     "start_time": null,
     "status": "pending"
    },
    "tags": []
   },
   "outputs": [],
   "source": [
    "# create pred_y for test set\n",
    "\n",
    "pred_y = np.zeros((2100, 60, 2))\n",
    "starting_point = test_data[:, 0, -1, :2]\n",
    "\n",
    "for t in range(60):\n",
    "    pred_y[:,t,:] = starting_point + (t+1) * constant_vel"
   ]
  },
  {
   "cell_type": "code",
   "execution_count": null,
   "id": "c0714bfa",
   "metadata": {
    "papermill": {
     "duration": null,
     "end_time": null,
     "exception": null,
     "start_time": null,
     "status": "pending"
    },
    "tags": []
   },
   "outputs": [],
   "source": [
    "# reshape to fit desired format: (2100, 60, 2) -> (12600, 2)\n",
    "pred_output = pred_y.reshape(-1, 2)\n",
    "output_df = pd.DataFrame(pred_output, columns=['x', 'y'])\n",
    "\n",
    "# adding a necessary step to match index of your prediction to that of the solution key\n",
    "\n",
    "output_df.index.name = 'index'\n",
    "\n",
    "output_df.to_csv('constant_vel_submission.csv')"
   ]
  },
  {
   "cell_type": "code",
   "execution_count": null,
   "id": "7b4ed6b2",
   "metadata": {
    "papermill": {
     "duration": null,
     "end_time": null,
     "exception": null,
     "start_time": null,
     "status": "pending"
    },
    "tags": []
   },
   "outputs": [],
   "source": [
    "# Split x and y for train data.\n",
    "\n",
    "train_x, train_y = train_data[..., :50, :], train_data[:, 0, 50:, :2]\n",
    "\n",
    "print(train_x.shape, train_y.shape)"
   ]
  },
  {
   "cell_type": "code",
   "execution_count": null,
   "id": "f8b3631b",
   "metadata": {
    "papermill": {
     "duration": null,
     "end_time": null,
     "exception": null,
     "start_time": null,
     "status": "pending"
    },
    "tags": []
   },
   "outputs": [],
   "source": [
    "import torch\n",
    "import torch.nn as nn\n",
    "import torch.optim as optim\n",
    "from torch.utils.data import DataLoader, TensorDataset\n",
    "from tqdm import tqdm\n",
    "\n",
    "class MLP(nn.Module):\n",
    "    def __init__(self, input_features, output_features):\n",
    "        super(MLP, self).__init__()\n",
    "        \n",
    "        # Define the layers\n",
    "        self.flatten = nn.Flatten()\n",
    "        self.mlp = nn.Sequential(\n",
    "            nn.Linear(input_features, 1024),\n",
    "            nn.ReLU(),\n",
    "            nn.Dropout(0.1),\n",
    "            \n",
    "            nn.Linear(1024, 512),\n",
    "            nn.ReLU(),\n",
    "            nn.Dropout(0.1),\n",
    "            \n",
    "            nn.Linear(512, 256),\n",
    "            nn.ReLU(),\n",
    "            nn.Dropout(0.1),\n",
    "            \n",
    "            nn.Linear(256, output_features)\n",
    "        )\n",
    "    \n",
    "    def forward(self, x):\n",
    "        x = self.flatten(x)\n",
    "        x = self.mlp(x)\n",
    "        return x\n"
   ]
  },
  {
   "cell_type": "code",
   "execution_count": null,
   "id": "596ac7c3",
   "metadata": {
    "papermill": {
     "duration": null,
     "end_time": null,
     "exception": null,
     "start_time": null,
     "status": "pending"
    },
    "tags": []
   },
   "outputs": [],
   "source": [
    "# Calculate the total number of features after flattening\n",
    "input_features = 50 * 50 * 6  # = 5000\n",
    "output_features = 60 * 2\n",
    "\n",
    "\n",
    "# Create the model\n",
    "model = MLP(input_features, output_features)\n",
    "\n",
    "# Define loss function and optimizer\n",
    "criterion = nn.MSELoss()  # For regression task\n",
    "\n",
    "optimizer = optim.Adam(model.parameters(), lr=0.001)\n"
   ]
  },
  {
   "cell_type": "code",
   "execution_count": null,
   "id": "a331735c",
   "metadata": {
    "papermill": {
     "duration": null,
     "end_time": null,
     "exception": null,
     "start_time": null,
     "status": "pending"
    },
    "tags": []
   },
   "outputs": [],
   "source": [
    "\n",
    "# Example of how to prepare data and train the model\n",
    "\n",
    "def train_model(model, x_train, y_train, batch_size=64, epochs=10):\n",
    "    # Convert numpy arrays to PyTorch tensors\n",
    "    X_train_tensor = torch.FloatTensor(x_train).reshape((-1, input_features))\n",
    "    y_train_tensor = torch.FloatTensor(y_train).reshape((-1, output_features))\n",
    "    \n",
    "    # Create dataset and dataloader\n",
    "    train_dataset = TensorDataset(X_train_tensor, y_train_tensor)\n",
    "    train_loader = DataLoader(train_dataset, batch_size=batch_size, shuffle=True)\n",
    "    \n",
    "    # Training loop\n",
    "    for epoch in range(epochs):\n",
    "        running_loss = 0.0\n",
    "        \n",
    "        for batch_X, batch_y in tqdm(train_loader):\n",
    "            # Zero the parameter gradients\n",
    "            optimizer.zero_grad()\n",
    "            \n",
    "            # Forward pass\n",
    "            outputs = model(batch_X)\n",
    "            \n",
    "            # Calculate loss\n",
    "            loss = criterion(outputs, batch_y)\n",
    "            \n",
    "            # Backward pass and optimize\n",
    "            loss.backward()\n",
    "            optimizer.step()\n",
    "            \n",
    "            running_loss += loss.item()\n",
    "        \n",
    "        # Print epoch statistics\n",
    "        print(f'Epoch {epoch+1}, Loss: {running_loss/len(train_loader):.4f}')\n",
    "    return model\n"
   ]
  },
  {
   "cell_type": "code",
   "execution_count": null,
   "id": "6cecf336",
   "metadata": {
    "papermill": {
     "duration": null,
     "end_time": null,
     "exception": null,
     "start_time": null,
     "status": "pending"
    },
    "tags": []
   },
   "outputs": [],
   "source": [
    "model = train_model(model, train_x, train_y)"
   ]
  },
  {
   "cell_type": "code",
   "execution_count": null,
   "id": "864fa81e",
   "metadata": {
    "papermill": {
     "duration": null,
     "end_time": null,
     "exception": null,
     "start_time": null,
     "status": "pending"
    },
    "tags": []
   },
   "outputs": [],
   "source": [
    "\n",
    "def predict(X_test):\n",
    "    \"\"\"Make predictions with the trained model\"\"\"\n",
    "    model.eval()  # Set to evaluation mode\n",
    "    with torch.no_grad():\n",
    "        X_test_tensor = torch.FloatTensor(X_test).reshape((-1, input_features))\n",
    "        predictions = model(X_test_tensor).reshape((-1, 60, 2))\n",
    "    return predictions.numpy()\n",
    "\n",
    "# Save model\n",
    "def save_model(path=\"mlp_model.pth\"):\n",
    "    torch.save(model.state_dict(), path)\n",
    "    print(f\"Model saved to {path}\")\n",
    "\n",
    "# Load model\n",
    "def load_model(path=\"mlp_model.pth\"):\n",
    "    loaded_model = MLP()\n",
    "    loaded_model.load_state_dict(torch.load(path))\n",
    "    loaded_model.eval()\n",
    "    return loaded_model"
   ]
  },
  {
   "cell_type": "code",
   "execution_count": null,
   "id": "173eab36",
   "metadata": {
    "papermill": {
     "duration": null,
     "end_time": null,
     "exception": null,
     "start_time": null,
     "status": "pending"
    },
    "tags": []
   },
   "outputs": [],
   "source": [
    "\n",
    "pred_y = predict(test_data)\n",
    "\n",
    "pred_output = pred_y.reshape(-1, 2)\n",
    "output_df = pd.DataFrame(pred_output, columns=['x', 'y'])\n",
    "\n",
    "# adding a necessary step to match index of your prediction to that of the solution key\n",
    "\n",
    "output_df.index.name = 'index'\n",
    "\n",
    "output_df.to_csv('mlp_baseline.csv')"
   ]
  },
  {
   "cell_type": "markdown",
   "id": "97a0949d",
   "metadata": {
    "papermill": {
     "duration": null,
     "end_time": null,
     "exception": null,
     "start_time": null,
     "status": "pending"
    },
    "tags": []
   },
   "source": [
    " # Now you can submit to the leaderboard!"
   ]
  }
 ],
 "metadata": {
  "kaggle": {
   "accelerator": "none",
   "dataSources": [
    {
     "datasetId": 7234734,
     "sourceId": 11535351,
     "sourceType": "datasetVersion"
    }
   ],
   "dockerImageVersionId": 30918,
   "isGpuEnabled": false,
   "isInternetEnabled": false,
   "language": "python",
   "sourceType": "notebook"
  },
  "kernelspec": {
   "display_name": "Python 3",
   "language": "python",
   "name": "python3"
  },
  "language_info": {
   "codemirror_mode": {
    "name": "ipython",
    "version": 3
   },
   "file_extension": ".py",
   "mimetype": "text/x-python",
   "name": "python",
   "nbconvert_exporter": "python",
   "pygments_lexer": "ipython3",
   "version": "3.10.12"
  },
  "papermill": {
   "default_parameters": {},
   "duration": 4.752178,
   "end_time": "2025-04-23T21:44:18.841703",
   "environment_variables": {},
   "exception": true,
   "input_path": "__notebook__.ipynb",
   "output_path": "__notebook__.ipynb",
   "parameters": {},
   "start_time": "2025-04-23T21:44:14.089525",
   "version": "2.6.0"
  }
 },
 "nbformat": 4,
 "nbformat_minor": 5
}
